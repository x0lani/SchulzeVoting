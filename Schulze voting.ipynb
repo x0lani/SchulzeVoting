{
 "cells": [
  {
   "cell_type": "code",
   "execution_count": 41,
   "metadata": {
    "collapsed": false
   },
   "outputs": [],
   "source": [
    "%run Console.py"
   ]
  },
  {
   "cell_type": "markdown",
   "metadata": {},
   "source": [
    "# Administer polls"
   ]
  },
  {
   "cell_type": "code",
   "execution_count": 42,
   "metadata": {
    "collapsed": false,
    "scrolled": true
   },
   "outputs": [],
   "source": [
    "# admin_console()\n"
   ]
  },
  {
   "cell_type": "markdown",
   "metadata": {},
   "source": [
    "# Write a vote to a ballot file"
   ]
  },
  {
   "cell_type": "code",
   "execution_count": 43,
   "metadata": {
    "collapsed": false
   },
   "outputs": [],
   "source": [
    "# voting_console('wishlist')\n"
   ]
  },
  {
   "cell_type": "markdown",
   "metadata": {},
   "source": [
    "# Count votes"
   ]
  },
  {
   "cell_type": "code",
   "execution_count": 44,
   "metadata": {
    "collapsed": false
   },
   "outputs": [
    {
     "name": "stdout",
     "output_type": "stream",
     "text": [
      "\t*,bush\t*,fillmore\t*,obama\t*,washington\n",
      "bush,*\t--\t1\t1\t1\t\n",
      "fillmore,*\t2\t--\t0\t0\t\n",
      "obama,*\t2\t3\t--\t3\t\n",
      "washington,*\t2\t3\t0\t--\t\n"
     ]
    }
   ],
   "source": [
    "total=tally_votes('prez')\n",
    "total.printReport()"
   ]
  },
  {
   "cell_type": "code",
   "execution_count": 45,
   "metadata": {
    "collapsed": false
   },
   "outputs": [
    {
     "name": "stdout",
     "output_type": "stream",
     "text": [
      "\t4 candidates.\n",
      "\tDropping obvious weak candidates.\n",
      "\t 0 candidates remain\n",
      "  1)\tobama\n",
      "  2)\twashington\n",
      "  3)\tfillmore\n",
      "  4)\tbush\n"
     ]
    }
   ],
   "source": [
    "g=Schulze.Graph(total)\n",
    "g.print_ladder()"
   ]
  }
 ],
 "metadata": {
  "kernelspec": {
   "display_name": "Python 3",
   "language": "python",
   "name": "python3"
  },
  "language_info": {
   "codemirror_mode": {
    "name": "ipython",
    "version": 3
   },
   "file_extension": ".py",
   "mimetype": "text/x-python",
   "name": "python",
   "nbconvert_exporter": "python",
   "pygments_lexer": "ipython3",
   "version": "3.5.2"
  }
 },
 "nbformat": 4,
 "nbformat_minor": 1
}
